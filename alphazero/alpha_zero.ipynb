{
 "cells": [
  {
   "cell_type": "code",
   "execution_count": 1,
   "metadata": {
    "ExecuteTime": {
     "end_time": "2019-05-02T21:05:11.739359Z",
     "start_time": "2019-05-02T21:05:10.739596Z"
    }
   },
   "outputs": [],
   "source": [
    "from u import *\n",
    "from expres.src.config import Config\n",
    "\n",
    "from model import Model\n",
    "import util\n",
    "\n",
    "%load_ext autoreload\n",
    "%autoreload 2"
   ]
  },
  {
   "cell_type": "code",
   "execution_count": 21,
   "metadata": {
    "ExecuteTime": {
     "end_time": "2019-04-30T06:42:07.210279Z",
     "start_time": "2019-04-30T06:42:07.072799Z"
    }
   },
   "outputs": [],
   "source": [
    "util.config = config = Config(Path('results').mk(),\n",
    "    board_dim=20,\n",
    "    n_win=5,\n",
    "                \n",
    "    res_basic_block=True,\n",
    "    res_inplanes=[16, 32, 64, 128],\n",
    "    res_num_blocks=[3, 4, 6, 3],\n",
    "                \n",
    "    c_puct=4,\n",
    "    mcts_iterations=1600,\n",
    "    mcts_eps=0.25,\n",
    "    mcts_alpha=0.03, # 0.6 / board_dim\n",
    "    temp=1,\n",
    "    move_temp_decay=25,\n",
    "\n",
    "    lr=1e-2,\n",
    "    l2_reg=1e-4,\n",
    "\n",
    "    train_epochs=50000,\n",
    "    train_batch=1024,\n",
    "    pred_batch=48,\n",
    "    early_stop=False,\n",
    "    time_update_model=30.0,\n",
    "    epoch_update_model=1,\n",
    "    epoch_save_model=100,\n",
    "    epoch_save_games=200,\n",
    "    max_save=40,\n",
    "\n",
    "    max_mcts_queue=200000,\n",
    "    time_reset_eval=60 * 60,\n",
    "    min_num_states=40960,\n",
    "    num_mcts_processes=60,\n",
    "                \n",
    "    eval_mcts_iterations=5000\n",
    ").save(force=True)"
   ]
  },
  {
   "cell_type": "code",
   "execution_count": 5,
   "metadata": {
    "ExecuteTime": {
     "end_time": "2019-05-02T21:08:53.175514Z",
     "start_time": "2019-05-02T21:08:53.053817Z"
    }
   },
   "outputs": [],
   "source": [
    "config = Config(Path('results_small').mk(),\n",
    "    board_dim=6,\n",
    "    n_win=4,\n",
    "\n",
    "    res_basic_block=True,\n",
    "    res_inplanes=[16, 32],\n",
    "    res_num_blocks=[3, 4],\n",
    "\n",
    "    c_puct=4,\n",
    "    mcts_iterations=1000,\n",
    "    mcts_eps=0.1,\n",
    "    mcts_alpha=0.12, # 0.6 / board_dim\n",
    "    mcts_temp=1,\n",
    "\n",
    "    lr=1e-3,\n",
    "    l2_reg=1e-4,\n",
    "\n",
    "    train_epochs=50000,\n",
    "    train_batch=1024,\n",
    "    pred_batch=2,\n",
    "    early_stop=False,\n",
    "    time_update_model=15.0,\n",
    "    min_time_update_model=15.0,\n",
    "    epoch_update_model=1,\n",
    "    epoch_save_model=100,\n",
    "    epoch_save_games=200,\n",
    "    max_save=40,\n",
    "\n",
    "    max_mcts_queue=20480,\n",
    "    min_num_states=1,\n",
    "    num_mcts_processes=2,\n",
    "                \n",
    "    eval_mcts_iterations=5000\n",
    ").save(force=True)"
   ]
  },
  {
   "cell_type": "code",
   "execution_count": 30,
   "metadata": {
    "ExecuteTime": {
     "end_time": "2019-05-01T04:43:03.227210Z",
     "start_time": "2019-05-01T04:43:03.162331Z"
    }
   },
   "outputs": [],
   "source": [
    "util.config = config = Config(Path('results_tic_tac_toe').mk(),\n",
    "    board_dim=3,\n",
    "    n_win=3,\n",
    "                \n",
    "    res_basic_block=True,\n",
    "    res_inplanes=[16],\n",
    "    res_num_blocks=[3],\n",
    "                \n",
    "    c_puct=4,\n",
    "    mcts_iterations=100,\n",
    "    mcts_eps=0.1,\n",
    "    mcts_alpha=0.03, # 0.6 / board_dim\n",
    "    temp=1,\n",
    "    move_temp_decay=25,\n",
    "\n",
    "    lr=1e-2,\n",
    "    l2_reg=1e-4,\n",
    "\n",
    "    train_epochs=50000,\n",
    "    train_batch=1024,\n",
    "    pred_batch=48,\n",
    "    early_stop=False,\n",
    "    time_update_model=30.0,\n",
    "    epoch_update_model=10,\n",
    "    epoch_save_model=100,\n",
    "    epoch_save_games=200,\n",
    "    max_save=40,\n",
    "\n",
    "    max_mcts_queue=200000,\n",
    "    time_reset_eval=60 * 60,\n",
    "    min_num_states=20480,\n",
    "    num_mcts_processes=60,\n",
    "                \n",
    "    eval_mcts_iterations=5000\n",
    ").save(force=True)"
   ]
  },
  {
   "cell_type": "code",
   "execution_count": null,
   "metadata": {},
   "outputs": [],
   "source": []
  }
 ],
 "metadata": {
  "kernelspec": {
   "display_name": "Python 3",
   "language": "python",
   "name": "python3"
  },
  "language_info": {
   "codemirror_mode": {
    "name": "ipython",
    "version": 3
   },
   "file_extension": ".py",
   "mimetype": "text/x-python",
   "name": "python",
   "nbconvert_exporter": "python",
   "pygments_lexer": "ipython3",
   "version": "3.5.2"
  }
 },
 "nbformat": 4,
 "nbformat_minor": 2
}
