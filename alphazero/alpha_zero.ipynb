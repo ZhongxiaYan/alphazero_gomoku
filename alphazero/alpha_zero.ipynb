{
 "cells": [
  {
   "cell_type": "code",
   "execution_count": 2,
   "metadata": {
    "ExecuteTime": {
     "end_time": "2019-04-27T23:29:12.743449Z",
     "start_time": "2019-04-27T23:29:11.212896Z"
    }
   },
   "outputs": [],
   "source": [
    "from u import *\n",
    "from expres.src.config import Config\n",
    "\n",
    "from model import Model\n",
    "import util\n",
    "\n",
    "%load_ext autoreload\n",
    "%autoreload 2"
   ]
  },
  {
   "cell_type": "code",
   "execution_count": 21,
   "metadata": {
    "ExecuteTime": {
     "end_time": "2019-04-30T06:42:07.210279Z",
     "start_time": "2019-04-30T06:42:07.072799Z"
    }
   },
   "outputs": [],
   "source": [
    "util.config = config = Config(Path('results').mk(),\n",
    "    board_dim=20,\n",
    "    n_win=5,\n",
    "                \n",
    "    res_basic_block=True,\n",
    "    res_inplanes=[16, 32, 64, 128],\n",
    "    res_num_blocks=[3, 4, 6, 3],\n",
    "                \n",
    "    c_puct=4,\n",
    "    mcts_iterations=1600,\n",
    "    mcts_eps=0.25,\n",
    "    mcts_alpha=0.03, # 0.6 / board_dim\n",
    "    temp=1,\n",
    "    move_temp_decay=25,\n",
    "\n",
    "    lr=1e-2,\n",
    "    l2_reg=1e-4,\n",
    "\n",
    "    train_epochs=50000,\n",
    "    train_batch=1024,\n",
    "    pred_batch=48,\n",
    "    early_stop=False,\n",
    "    time_model_update=30.0,\n",
    "    epoch_model_update=10,\n",
    "    epoch_model_save=100,\n",
    "    max_save=40,\n",
    "\n",
    "    max_mcts_queue=200000,\n",
    "    time_reset_eval=60 * 60,\n",
    "    min_num_states=20480,\n",
    "    num_mcts_processes=60,\n",
    "                \n",
    "    eval_mcts_iterations=5000\n",
    ").save(force=True)"
   ]
  },
  {
   "cell_type": "code",
   "execution_count": 23,
   "metadata": {
    "ExecuteTime": {
     "end_time": "2019-04-30T16:13:19.175036Z",
     "start_time": "2019-04-30T16:13:19.091745Z"
    }
   },
   "outputs": [],
   "source": [
    "util.config = config = Config(Path('results_debug').mk(),\n",
    "    board_dim=20,\n",
    "    n_win=5,\n",
    "                \n",
    "    res_basic_block=True,\n",
    "    res_inplanes=[16, 32, 64, 128],\n",
    "    res_num_blocks=[3, 4, 6, 3],\n",
    "                \n",
    "    c_puct=4,\n",
    "    mcts_iterations=10,\n",
    "    mcts_eps=0.25,\n",
    "    mcts_alpha=0.03, # 0.6 / board_dim\n",
    "    temp=1,\n",
    "    move_temp_decay=25,\n",
    "\n",
    "    lr=1e-2,\n",
    "    l2_reg=1e-4,\n",
    "\n",
    "    train_epochs=50000,\n",
    "    train_batch=1024,\n",
    "    pred_batch=2,\n",
    "    early_stop=False,\n",
    "    time_model_update=30.0,\n",
    "    epoch_model_update=10,\n",
    "    epoch_model_save=50,\n",
    "    max_save=20,\n",
    "\n",
    "    max_mcts_queue=200000,\n",
    "    time_reset_eval=10,\n",
    "    min_num_states=2,\n",
    "    num_mcts_processes=2,\n",
    "                \n",
    "    eval_mcts_iterations=5000\n",
    ").save(force=True)"
   ]
  },
  {
   "cell_type": "code",
   "execution_count": 26,
   "metadata": {
    "ExecuteTime": {
     "end_time": "2019-04-30T22:22:57.893057Z",
     "start_time": "2019-04-30T22:22:57.749894Z"
    }
   },
   "outputs": [],
   "source": [
    "config = Config(Path('results_small').mk(),\n",
    "    board_dim=5,\n",
    "    n_win=4,\n",
    "                \n",
    "    res_basic_block=True,\n",
    "    res_inplanes=[16, 32],\n",
    "    res_num_blocks=[3, 4],\n",
    "                \n",
    "    c_puct=4,\n",
    "    mcts_iterations=300,\n",
    "    mcts_eps=0.1,\n",
    "    mcts_alpha=0.12, # 0.6 / board_dim\n",
    "    temp=1,\n",
    "    move_temp_decay=25,\n",
    "\n",
    "    lr=1e-2,\n",
    "    l2_reg=1e-4,\n",
    "\n",
    "    train_epochs=50000,\n",
    "    train_batch=1024,\n",
    "    pred_batch=32,\n",
    "    early_stop=False,\n",
    "    time_model_update=30.0,\n",
    "    epoch_model_update=1,\n",
    "    epoch_model_save=100,\n",
    "    max_save=40,\n",
    "\n",
    "    max_mcts_queue=100000,\n",
    "    time_reset_eval=60 * 60,\n",
    "    min_num_states=20480,\n",
    "    num_mcts_processes=48,\n",
    "                \n",
    "    eval_mcts_iterations=5000\n",
    ").save(force=True)"
   ]
  },
  {
   "cell_type": "code",
   "execution_count": 24,
   "metadata": {
    "ExecuteTime": {
     "end_time": "2019-04-30T18:46:52.870701Z",
     "start_time": "2019-04-30T18:46:52.739190Z"
    }
   },
   "outputs": [],
   "source": [
    "util.config = config = Config(Path('results_tic_tac_toe').mk(),\n",
    "    board_dim=3,\n",
    "    n_win=3,\n",
    "                \n",
    "    res_basic_block=True,\n",
    "    res_inplanes=[16],\n",
    "    res_num_blocks=[3],\n",
    "                \n",
    "    c_puct=4,\n",
    "    mcts_iterations=100,\n",
    "    mcts_eps=0.1,\n",
    "    mcts_alpha=0.03, # 0.6 / board_dim\n",
    "    temp=1,\n",
    "    move_temp_decay=25,\n",
    "\n",
    "    lr=1e-2,\n",
    "    l2_reg=1e-4,\n",
    "\n",
    "    train_epochs=50000,\n",
    "    train_batch=1024,\n",
    "    pred_batch=48,\n",
    "    early_stop=False,\n",
    "    time_model_update=30.0,\n",
    "    epoch_model_update=10,\n",
    "    epoch_model_save=100,\n",
    "    max_save=40,\n",
    "\n",
    "    max_mcts_queue=200000,\n",
    "    time_reset_eval=60 * 60,\n",
    "    min_num_states=20480,\n",
    "    num_mcts_processes=60,\n",
    "                \n",
    "    eval_mcts_iterations=5000\n",
    ").save(force=True)"
   ]
  },
  {
   "cell_type": "code",
   "execution_count": 3,
   "metadata": {
    "ExecuteTime": {
     "end_time": "2019-04-27T21:47:24.317350Z",
     "start_time": "2019-04-27T21:47:20.140080Z"
    }
   },
   "outputs": [],
   "source": [
    "config.device = 'cuda:1'\n",
    "model = Model(config).set_state(config.load_max_model_state(min_epoch=-1))"
   ]
  },
  {
   "cell_type": "code",
   "execution_count": 4,
   "metadata": {
    "ExecuteTime": {
     "end_time": "2019-04-27T21:47:26.954305Z",
     "start_time": "2019-04-27T21:47:26.882180Z"
    }
   },
   "outputs": [],
   "source": [
    "def ev(state):\n",
    "    with torch.no_grad():\n",
    "        return model.fit_batch((np.array([state]),), train=False)"
   ]
  },
  {
   "cell_type": "code",
   "execution_count": 5,
   "metadata": {
    "ExecuteTime": {
     "end_time": "2019-04-27T21:47:28.827982Z",
     "start_time": "2019-04-27T21:47:28.741782Z"
    },
    "code_folding": [
     51
    ]
   },
   "outputs": [],
   "source": [
    "class MCTSNode:\n",
    "    def __init__(self, state, value=0, evaluator=None):\n",
    "        self.state = state\n",
    "        if evaluator is None:\n",
    "            self.value = value # either the terminal value\n",
    "            self.terminal = True\n",
    "        else:\n",
    "            self.evaluator = evaluator\n",
    "            self.value, self.P = evaluator(state)\n",
    "            self.terminal = False\n",
    "            self.N = np.zeros_like(self.P)\n",
    "            self.W = np.zeros_like(self.P)\n",
    "            self.mask = state.sum(axis=0).reshape(-1).astype(np.bool)\n",
    "            self.score = self.P\n",
    "            self.next = {}\n",
    "            self.next_total = 0\n",
    "            q.d()\n",
    "    \n",
    "    def select(self):\n",
    "        if self.terminal:\n",
    "            return self.value\n",
    "        score = self.score\n",
    "        score[self.mask] = -np.inf\n",
    "        index = score.argmax()\n",
    "        if index in self.next:\n",
    "            new_node = self.next[index]\n",
    "            value = -new_node.select()\n",
    "        else:\n",
    "            move = index_to_move(index)\n",
    "\n",
    "            # flip the board\n",
    "            this_state, opp_state = self.state.copy()\n",
    "            this_state[move] = 1\n",
    "            new_state = np.stack([opp_state, this_state])\n",
    "            \n",
    "            if check_win(this_state, move):\n",
    "                new_node = MCTSNode(new_state, value=-1)\n",
    "            elif new_state.sum() == config.board_dim ** 2:\n",
    "                new_node = MCTSNode(new_state, value=0)\n",
    "            else:\n",
    "                new_node = MCTSNode(new_state, evaluator=self.evaluator)\n",
    "            self.next[index] = new_node\n",
    "            value = -new_node.value\n",
    "        self.N[index] += 1\n",
    "        self.W[index] += value\n",
    "        self.next_total += 1\n",
    "        q.d()\n",
    "        self.score = np.nan_to_num(self.W / self.N) + config.c_puct * self.P * np.sqrt(self.next_total) / (1 + self.N) # UCB\n",
    "        return value\n",
    "\n",
    "class MCTS:\n",
    "    def __init__(self, state, evaluator):\n",
    "        self.state = state\n",
    "        self.evaluator = evaluator\n",
    "\n",
    "    def run(self):\n",
    "        head = MCTSNode(self.state, evaluator=self.evaluator)\n",
    "        states = []\n",
    "        policies = []\n",
    "        indices = []\n",
    "        while not head.terminal:\n",
    "            for _ in range(config.mcts_iterations):\n",
    "                head.select()\n",
    "            inv_temp = 1 / config.temp\n",
    "            if len(states) > config.move_temp_decay:\n",
    "                inv_temp = np.sqrt(len(states) - config.move_temp_decay)\n",
    "            policy = head.N ** inv_temp\n",
    "            policy /= policy.sum()\n",
    "            index = np.random.choice(len(policy), p=policy)\n",
    "\n",
    "            states.append(head.state)\n",
    "            policies.append(policy)\n",
    "            indices.append(index)\n",
    "\n",
    "            head = head.next[index]\n",
    "        value = head.value if len(states) % 2 == 1 else -head.value\n",
    "        values = []\n",
    "        for _ in states:\n",
    "            values.append(value)\n",
    "            value = -value\n",
    "        # print('MCTS took %s' % (time() - start))\n",
    "        return np.array(states), np.array(policies), np.array(values, dtype=np.float32), np.array(indices)"
   ]
  },
  {
   "cell_type": "code",
   "execution_count": null,
   "metadata": {
    "ExecuteTime": {
     "start_time": "2019-04-27T21:47:29.321Z"
    }
   },
   "outputs": [
    {
     "name": "stderr",
     "output_type": "stream",
     "text": [
      "Python console opened by q.d() in forward\n"
     ]
    },
    {
     "name": "stdout",
     "output_type": "stream",
     "text": [
      "In : p_\n"
     ]
    },
    {
     "data": {
      "text/plain": [
       "tensor([[34971.6016, 38997.4961, 30575.4883,  1828.9645,  8054.6699, 31628.5098,\n",
       "          2439.4307,  1727.4076, 48544.7383, 23254.5039,  5099.1948, 10516.6670,\n",
       "         18361.9785, 33203.1641, 32461.6836, 37883.7617, 14901.2432, 40952.2773,\n",
       "         20274.1680, 16065.7773,  4356.8135,  9946.3672, 10933.2646, 17263.2988,\n",
       "         17732.8652, 13900.1885, -1175.9673, 19179.5254, 23814.2910, 50947.1992,\n",
       "          9514.8906, 51763.0898, 24615.8066, 33687.2617,  8682.8760, 43384.2930,\n",
       "           179.4453, 25002.5820, 28101.4629, 36334.0625, 21709.2617, 26670.4727,\n",
       "         44625.0977, 29342.4980, 11964.3203,   681.0692, 16647.7559, 24346.8574,\n",
       "          3595.1174]], device='cuda:1')"
      ]
     },
     "execution_count": 6,
     "metadata": {},
     "output_type": "execute_result"
    },
    {
     "name": "stdout",
     "output_type": "stream",
     "text": [
      "In : mask\n"
     ]
    },
    {
     "data": {
      "text/plain": [
       "tensor([[0, 0, 0, 0, 0, 0, 0, 0, 0, 0, 0, 0, 0, 0, 0, 0, 0, 0, 0, 0, 0, 0, 0, 0,\n",
       "         0, 0, 0, 0, 0, 0, 0, 0, 0, 0, 0, 0, 0, 0, 0, 0, 0, 0, 0, 0, 0, 0, 0, 0,\n",
       "         0]], device='cuda:1', dtype=torch.uint8)"
      ]
     },
     "execution_count": 6,
     "metadata": {},
     "output_type": "execute_result"
    },
    {
     "name": "stdout",
     "output_type": "stream",
     "text": [
      "In : p\n"
     ]
    },
    {
     "data": {
      "text/plain": [
       "tensor([[0., 0., 0., 0., 0., 0., 0., 0., 0., 0., 0., 0., 0., 0., 0., 0., 0., 0.,\n",
       "         0., 0., 0., 0., 0., 0., 0., 0., 0., 0., 0., 0., 0., 1., 0., 0., 0., 0.,\n",
       "         0., 0., 0., 0., 0., 0., 0., 0., 0., 0., 0., 0., 0.]], device='cuda:1')"
      ]
     },
     "execution_count": 6,
     "metadata": {},
     "output_type": "execute_result"
    },
    {
     "name": "stdout",
     "output_type": "stream",
     "text": [
      "In : c\n"
     ]
    },
    {
     "ename": "NameError",
     "evalue": "name 'c' is not defined",
     "output_type": "error",
     "traceback": [
      "\u001b[0;31m---------------------------------------------------------------------------\u001b[0m",
      "\u001b[0;31mNameError\u001b[0m                                 Traceback (most recent call last)",
      "\u001b[0;32m/usr/lib/python3.5/code.py\u001b[0m in \u001b[0;36mruncode\u001b[0;34m(self, code)\u001b[0m\n\u001b[1;32m     89\u001b[0m         \"\"\"\n\u001b[1;32m     90\u001b[0m         \u001b[0;32mtry\u001b[0m\u001b[0;34m:\u001b[0m\u001b[0;34m\u001b[0m\u001b[0m\n\u001b[0;32m---> 91\u001b[0;31m             \u001b[0mexec\u001b[0m\u001b[0;34m(\u001b[0m\u001b[0mcode\u001b[0m\u001b[0;34m,\u001b[0m \u001b[0mself\u001b[0m\u001b[0;34m.\u001b[0m\u001b[0mlocals\u001b[0m\u001b[0;34m)\u001b[0m\u001b[0;34m\u001b[0m\u001b[0m\n\u001b[0m\u001b[1;32m     92\u001b[0m         \u001b[0;32mexcept\u001b[0m \u001b[0mSystemExit\u001b[0m\u001b[0;34m:\u001b[0m\u001b[0;34m\u001b[0m\u001b[0m\n\u001b[1;32m     93\u001b[0m             \u001b[0;32mraise\u001b[0m\u001b[0;34m\u001b[0m\u001b[0m\n",
      "\u001b[0;32m/data/scratch/zxyan/go/gomoku_ai/alphazero/network.py\u001b[0m in \u001b[0;36m<module>\u001b[0;34m\u001b[0m\n",
      "\u001b[0;31mNameError\u001b[0m: name 'c' is not defined"
     ]
    },
    {
     "name": "stdout",
     "output_type": "stream",
     "text": [
      "In : continue\n"
     ]
    },
    {
     "ename": "SyntaxError",
     "evalue": "'continue' not properly in loop (<console>, line 1)",
     "output_type": "error",
     "traceback": [
      "\u001b[0;36m  File \u001b[0;32m\"<console>\"\u001b[0;36m, line \u001b[0;32m1\u001b[0m\n\u001b[0;31mSyntaxError\u001b[0m\u001b[0;31m:\u001b[0m 'continue' not properly in loop\n"
     ]
    }
   ],
   "source": [
    "import q\n",
    "mcts = MCTS(np.zeros((2, config.board_dim, config.board_dim), dtype=np.float32), ev)\n",
    "mcts.run()"
   ]
  },
  {
   "cell_type": "code",
   "execution_count": null,
   "metadata": {},
   "outputs": [],
   "source": []
  }
 ],
 "metadata": {
  "kernelspec": {
   "display_name": "Python 3",
   "language": "python",
   "name": "python3"
  },
  "language_info": {
   "codemirror_mode": {
    "name": "ipython",
    "version": 3
   },
   "file_extension": ".py",
   "mimetype": "text/x-python",
   "name": "python",
   "nbconvert_exporter": "python",
   "pygments_lexer": "ipython3",
   "version": "3.5.2"
  }
 },
 "nbformat": 4,
 "nbformat_minor": 2
}
