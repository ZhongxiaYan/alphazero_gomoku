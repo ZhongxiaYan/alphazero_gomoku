{
 "cells": [
  {
   "cell_type": "code",
   "execution_count": 20,
   "metadata": {
    "ExecuteTime": {
     "end_time": "2019-04-24T16:35:21.748999Z",
     "start_time": "2019-04-24T16:35:09.872078Z"
    }
   },
   "outputs": [
    {
     "name": "stdout",
     "output_type": "stream",
     "text": [
      "The autoreload extension is already loaded. To reload it, use:\n",
      "  %reload_ext autoreload\n"
     ]
    }
   ],
   "source": [
    "%load_ext autoreload\n",
    "%autoreload 2\n",
    "from u import *\n",
    "from expres.src.config import Config\n",
    "\n",
    "import util\n",
    "\n",
    "path = Path('results').mk()\n",
    "config = Config(path,\n",
    "    board_dim=20,\n",
    "    n_win=5,\n",
    "                \n",
    "    res_basic_block=True,\n",
    "    res_inplanes=[16, 32, 64, 128],\n",
    "    res_num_blocks=[3, 4, 6, 3],\n",
    "                \n",
    "    c_puct=1,\n",
    "    mcts_iterations=500,\n",
    "    temp=1,\n",
    "\n",
    "    lr=1e-4,\n",
    "    train_epochs=50000,\n",
    "    train_batch=1024,\n",
    "    pred_batch=24,\n",
    "    early_stop=False,\n",
    "    epoch_model_update=5,\n",
    "    epoch_model_save=50,\n",
    "    max_save=20,\n",
    "\n",
    "    max_mcts_queue=200000,\n",
    "    min_num_states=256,\n",
    "    num_mcts_processes=32\n",
    ").save(force=True)\n",
    "# config = Config(path,\n",
    "#     res_basic_block=True,\n",
    "#     res_inplanes=[16],\n",
    "#     res_num_blocks=[1],\n",
    "#     n_win=5,\n",
    "#     board_dim=20,\n",
    "#     c_puct=1,\n",
    "#     mcts_iterations=100,\n",
    "#     temp=1,\n",
    "# )\n",
    "# util.config = config"
   ]
  },
  {
   "cell_type": "code",
   "execution_count": null,
   "metadata": {},
   "outputs": [],
   "source": [
    "from network import ResNetGomoku\n",
    "\n",
    "net = ResNetGomoku(config).to(config.device)\n",
    "inp = torch.zeros((1, 2, config.board_dim, config.board_dim)).to(config.device)\n",
    "out = net(inp)"
   ]
  },
  {
   "cell_type": "code",
   "execution_count": 23,
   "metadata": {
    "ExecuteTime": {
     "end_time": "2019-04-24T02:56:03.544150Z",
     "start_time": "2019-04-24T02:55:34.238377Z"
    }
   },
   "outputs": [],
   "source": [
    "from mcts import *\n",
    "\n",
    "def ev(state):\n",
    "    v, p = from_torch(net(to_torch(np.expand_dims(state, axis=0), device=config.device)))\n",
    "    return v, p[0]\n",
    "net.evaluate = ev\n",
    "\n",
    "inp = np.zeros((2, config.board_dim, config.board_dim), dtype=np.float32)\n",
    "mcts = MCTS(inp, net)\n",
    "states, policies, values, indices = mcts.run()"
   ]
  }
 ],
 "metadata": {
  "kernelspec": {
   "display_name": "Python 3",
   "language": "python",
   "name": "python3"
  },
  "language_info": {
   "codemirror_mode": {
    "name": "ipython",
    "version": 3
   },
   "file_extension": ".py",
   "mimetype": "text/x-python",
   "name": "python",
   "nbconvert_exporter": "python",
   "pygments_lexer": "ipython3",
   "version": "3.5.2"
  }
 },
 "nbformat": 4,
 "nbformat_minor": 2
}
