{
 "cells": [
  {
   "cell_type": "code",
   "execution_count": 1,
   "metadata": {
    "ExecuteTime": {
     "end_time": "2019-05-16T05:59:43.482782Z",
     "start_time": "2019-05-16T05:59:39.173409Z"
    }
   },
   "outputs": [],
   "source": [
    "from util import Config\n",
    "\n",
    "from model import Model\n",
    "\n",
    "%load_ext autoreload\n",
    "%autoreload 2"
   ]
  },
  {
   "cell_type": "code",
   "execution_count": 6,
   "metadata": {
    "ExecuteTime": {
     "end_time": "2019-05-14T21:06:05.265029Z",
     "start_time": "2019-05-14T21:06:05.166298Z"
    }
   },
   "outputs": [],
   "source": [
    "config = Config(Path('results_20x20').mk(),\n",
    "    env='alphago',\n",
    "    board_dim=20,\n",
    "    n_win=5,\n",
    "    state_size=5,\n",
    "    \n",
    "    net='FullyConvNetGomoku',\n",
    "\n",
    "    c_puct=4,\n",
    "    mcts_iterations=15000,\n",
    "    mcts_eps=0.1,\n",
    "    mcts_alpha=0.06, # 0.6 / board_dim\n",
    "    mcts_temp=0.35,\n",
    "\n",
    "    lr=5e-4,\n",
    "    l2_reg=1e-4,\n",
    "\n",
    "    train_epochs=100000,\n",
    "    train_batch=1024,\n",
    "    pred_batch=48,\n",
    "    early_stop=False,\n",
    "    time_update_model=15.0,\n",
    "    min_time_update_model=15.0,\n",
    "    epoch_update_model=1,\n",
    "    epoch_save_model=500,\n",
    "    epoch_save_games=500,\n",
    "    epoch_save_sample_game=100,\n",
    "    max_save=200,\n",
    "    max_batch_wo_new_data=60,\n",
    "\n",
    "    max_mcts_queue=40960,\n",
    "    min_num_states=20480,\n",
    "    num_mcts_processes=60,\n",
    "                \n",
    "    eval_mcts_iterations=5000\n",
    ").save(force=True)"
   ]
  },
  {
   "cell_type": "code",
   "execution_count": 3,
   "metadata": {
    "ExecuteTime": {
     "end_time": "2019-05-13T19:29:00.693312Z",
     "start_time": "2019-05-13T19:29:00.640472Z"
    }
   },
   "outputs": [],
   "source": [
    "config = Config(Path('results_16x16').mk(),\n",
    "    env='alphago',\n",
    "    board_dim=16,\n",
    "    n_win=5,\n",
    "    state_size=5,\n",
    "    \n",
    "    net='FullyConvNetGomoku',\n",
    "\n",
    "    c_puct=4,\n",
    "    mcts_iterations=15000,\n",
    "    mcts_eps=0.1,\n",
    "    mcts_alpha=0.06, # 0.6 / board_dim\n",
    "    mcts_temp=0.3,\n",
    "\n",
    "    lr=5e-4,\n",
    "    l2_reg=1e-4,\n",
    "\n",
    "    train_epochs=100000,\n",
    "    train_batch=1024,\n",
    "    pred_batch=48,\n",
    "    early_stop=False,\n",
    "    time_update_model=15.0,\n",
    "    min_time_update_model=15.0,\n",
    "    epoch_update_model=1,\n",
    "    epoch_save_model=500,\n",
    "    epoch_save_games=500,\n",
    "    epoch_save_sample_game=100,\n",
    "    max_save=200,\n",
    "    max_batch_wo_new_data=60,\n",
    "\n",
    "    max_mcts_queue=40960,\n",
    "    min_num_states=20480,\n",
    "    num_mcts_processes=60,\n",
    "                \n",
    "    eval_mcts_iterations=5000\n",
    ").save(force=True)"
   ]
  },
  {
   "cell_type": "code",
   "execution_count": 7,
   "metadata": {
    "ExecuteTime": {
     "end_time": "2019-05-12T17:56:32.626503Z",
     "start_time": "2019-05-12T17:56:32.419322Z"
    }
   },
   "outputs": [],
   "source": [
    "# 0-2000: mcts_temp=0.5, mcts_iterations=10000, max_mcts_queue=40960, min_num_states=30720\n",
    "# 2000 -: clear games, mcts_temp=0.35, mcts_iterations=15000, max_mcts_queue=40960, min_num_states=20480\n",
    "config = Config(Path('results_12x12').mk(),\n",
    "    env='alphago',\n",
    "    board_dim=12,\n",
    "    n_win=5,\n",
    "    state_size=5,\n",
    "    \n",
    "    net='FullyConvNetGomoku',\n",
    "\n",
    "    c_puct=4,\n",
    "    mcts_iterations=15000,\n",
    "    mcts_eps=0.1,\n",
    "    mcts_alpha=0.06, # 0.6 / board_dim\n",
    "    mcts_temp=0.35,\n",
    "\n",
    "    lr=5e-4,\n",
    "    l2_reg=1e-4,\n",
    "\n",
    "    train_epochs=100000,\n",
    "    train_batch=1024,\n",
    "    pred_batch=48,\n",
    "    early_stop=False,\n",
    "    time_update_model=15.0,\n",
    "    min_time_update_model=15.0,\n",
    "    epoch_update_model=1,\n",
    "    epoch_save_model=500,\n",
    "    epoch_save_games=500,\n",
    "    epoch_save_sample_game=100,\n",
    "    max_save=200,\n",
    "    max_batch_wo_new_data=60,\n",
    "\n",
    "    max_mcts_queue=40960,\n",
    "    min_num_states=20480,\n",
    "    num_mcts_processes=60,\n",
    "                \n",
    "    eval_mcts_iterations=5000\n",
    ").save(force=True)"
   ]
  },
  {
   "cell_type": "code",
   "execution_count": 4,
   "metadata": {
    "ExecuteTime": {
     "end_time": "2019-05-10T07:20:45.105343Z",
     "start_time": "2019-05-10T07:20:45.033604Z"
    }
   },
   "outputs": [],
   "source": [
    "# 0-40000: mcts_temp=1, mcts_iterations=5000, max_mcts_queue=20480, min_num_states=1024\n",
    "# 40000- : mcts_temp=0.5, mcts_iterations=10000, max_mcts_queue=40960, min_num_states=30720\n",
    "config = Config(Path('results_8x8').mk(),\n",
    "    env='alphago',\n",
    "    board_dim=8,\n",
    "    n_win=5,\n",
    "    state_size=5,\n",
    "    \n",
    "    net='FullyConvNetGomoku',\n",
    "\n",
    "    c_puct=4,\n",
    "    mcts_iterations=10000,\n",
    "    mcts_eps=0.1,\n",
    "    mcts_alpha=0.06, # 0.6 / board_dim\n",
    "    mcts_temp=0.5,\n",
    "\n",
    "    lr=5e-4,\n",
    "    l2_reg=1e-4,\n",
    "\n",
    "    train_epochs=100000,\n",
    "    train_batch=1024,\n",
    "    pred_batch=48,\n",
    "    early_stop=False,\n",
    "    time_update_model=15.0,\n",
    "    min_time_update_model=15.0,\n",
    "    epoch_update_model=1,\n",
    "    epoch_save_model=500,\n",
    "    epoch_save_games=500,\n",
    "    epoch_save_sample_game=100,\n",
    "    max_save=200,\n",
    "    max_batch_wo_new_data=60,\n",
    "\n",
    "    max_mcts_queue=40960,\n",
    "    min_num_states=30720,\n",
    "    num_mcts_processes=60,\n",
    "                \n",
    "    eval_mcts_iterations=5000\n",
    ").save(force=True)"
   ]
  },
  {
   "cell_type": "code",
   "execution_count": 7,
   "metadata": {
    "ExecuteTime": {
     "end_time": "2019-05-09T15:04:03.934303Z",
     "start_time": "2019-05-09T15:03:59.072191Z"
    }
   },
   "outputs": [
    {
     "name": "stderr",
     "output_type": "stream",
     "text": [
      "[autoreload of network failed: Traceback (most recent call last):\n",
      "  File \"/afs/csail.mit.edu/u/z/zxyan/.local/lib/python3.5/site-packages/IPython/extensions/autoreload.py\", line 244, in check\n",
      "    superreload(m, reload, self.old_objects)\n",
      "  File \"/afs/csail.mit.edu/u/z/zxyan/.local/lib/python3.5/site-packages/IPython/extensions/autoreload.py\", line 376, in superreload\n",
      "    module = reload(module)\n",
      "  File \"/usr/lib/python3.5/imp.py\", line 314, in reload\n",
      "    return importlib.reload(module)\n",
      "  File \"/usr/lib/python3.5/importlib/__init__.py\", line 166, in reload\n",
      "    _bootstrap._exec(spec, module)\n",
      "  File \"<frozen importlib._bootstrap>\", line 626, in _exec\n",
      "  File \"<frozen importlib._bootstrap_external>\", line 661, in exec_module\n",
      "  File \"<frozen importlib._bootstrap_external>\", line 767, in get_code\n",
      "  File \"<frozen importlib._bootstrap_external>\", line 727, in source_to_code\n",
      "  File \"<frozen importlib._bootstrap>\", line 222, in _call_with_frames_removed\n",
      "  File \"/data/scratch/zxyan/go/gomoku_ai/alphazero/network.py\", line 176\n",
      "    nn.ReLU(inplace=True),\n",
      "    ^\n",
      "IndentationError: unexpected indent\n",
      "]\n"
     ]
    }
   ],
   "source": [
    "# 0 - 10000: mcts_temp=1, mcts_eps=0.2, mcts_alpha=0.03, mcts_terations=2000\n",
    "# 10000 - 20200: mcts_temp=0.5, mcts_iterations=3000\n",
    "# 20200 - : mcts_temp=0.25, mcts_eps=0.1, mcts_alpha=0.06, mcts_iterations=5000\n",
    "# 20200 - : mcts_temp=0.4, mcts_eps=0.2, mcts_alpha=0.03, mcts_iterations=5000, max_queue=81920\n",
    "config = Config(Path('results_conv_gomoku_old').mk(),\n",
    "    env='alphago',\n",
    "    board_dim=20,\n",
    "    n_win=5,\n",
    "    state_size=5,\n",
    "    \n",
    "    net='ConvNetLargeGomoku',\n",
    "\n",
    "    c_puct=4,\n",
    "    mcts_iterations=5000,\n",
    "    mcts_eps=0.2,\n",
    "    mcts_alpha=0.03, # 0.6 / board_dim\n",
    "    mcts_temp=0.4,\n",
    "\n",
    "    lr=5e-4,\n",
    "    l2_reg=1e-4,\n",
    "\n",
    "    train_epochs=50000,\n",
    "    train_batch=1024,\n",
    "    pred_batch=48,\n",
    "    early_stop=False,\n",
    "    time_update_model=15.0,\n",
    "    min_time_update_model=15.0,\n",
    "    epoch_update_model=1,\n",
    "    epoch_save_model=250,\n",
    "    epoch_save_games=250,\n",
    "    max_save=40,\n",
    "    max_batch_wo_new_data=60,\n",
    "\n",
    "    max_mcts_queue=81920,\n",
    "    min_num_states=1024,\n",
    "    num_mcts_processes=60,\n",
    "                \n",
    "    eval_mcts_iterations=5000\n",
    ").save(force=True)"
   ]
  },
  {
   "cell_type": "code",
   "execution_count": 6,
   "metadata": {
    "ExecuteTime": {
     "end_time": "2019-05-08T14:14:05.162755Z",
     "start_time": "2019-05-08T14:14:00.031023Z"
    }
   },
   "outputs": [],
   "source": [
    "# 0 - 10000: mcts_temp=1, mcts_eps=0.2, mcts_alpha=0.03, mcts_terations=2000\n",
    "# 10000 - 20200: mcts_temp=0.5, mcts_iterations=3000\n",
    "# 20200 - : mcts_temp=0.25, mcts_eps=0.1, mcts_alpha=0.06, mcts_iterations=5000\n",
    "# 20200 - : mcts_temp=0.4, mcts_eps=0.2, mcts_alpha=0.03, mcts_iterations=5000, max_queue=81920\n",
    "config = Config(Path('results').mk(),\n",
    "    env='alphago',\n",
    "    board_dim=20,\n",
    "    n_win=5,\n",
    "    state_size=5,\n",
    "    \n",
    "    net='ConvNetLargeGomoku',\n",
    "\n",
    "    c_puct=4,\n",
    "    mcts_iterations=5000,\n",
    "    mcts_eps=0.2,\n",
    "    mcts_alpha=0.03, # 0.6 / board_dim\n",
    "    mcts_temp=0.4,\n",
    "\n",
    "    lr=5e-4,\n",
    "    l2_reg=1e-4,\n",
    "\n",
    "    train_epochs=50000,\n",
    "    train_batch=1024,\n",
    "    pred_batch=48,\n",
    "    early_stop=False,\n",
    "    time_update_model=15.0,\n",
    "    min_time_update_model=15.0,\n",
    "    epoch_update_model=1,\n",
    "    epoch_save_model=250,\n",
    "    epoch_save_games=250,\n",
    "    max_save=40,\n",
    "    max_batch_wo_new_data=60,\n",
    "\n",
    "    max_mcts_queue=81920,\n",
    "    min_num_states=1024,\n",
    "    num_mcts_processes=60,\n",
    "                \n",
    "    eval_mcts_iterations=5000\n",
    ").save(force=True)"
   ]
  },
  {
   "cell_type": "code",
   "execution_count": 4,
   "metadata": {
    "ExecuteTime": {
     "end_time": "2019-05-16T07:00:55.317116Z",
     "start_time": "2019-05-16T07:00:55.193170Z"
    }
   },
   "outputs": [],
   "source": [
    "config = Config(Path('results_small').mk(),\n",
    "    env='alphago',\n",
    "    board_dim=6,\n",
    "    n_win=4,\n",
    "    state_size=4,\n",
    "\n",
    "    net='ConvNetGomoku',\n",
    "\n",
    "    c_puct=4,\n",
    "    mcts_iterations=3000,\n",
    "    mcts_eps=0.1,\n",
    "    mcts_alpha=0.12, # 0.6 / board_dim\n",
    "    mcts_temp=1,\n",
    "\n",
    "    lr=1e-4,\n",
    "    l2_reg=1e-4,\n",
    "\n",
    "    train_epochs=50000,\n",
    "    train_batch=128,\n",
    "    pred_batch=32,\n",
    "    early_stop=False,\n",
    "    time_update_model=15.0,\n",
    "    min_time_update_model=15.0,\n",
    "    epoch_update_model=1,\n",
    "    epoch_save_model=100,\n",
    "    epoch_save_games=200,\n",
    "    max_save=40,\n",
    "    max_batch_wo_new_data=15,\n",
    "\n",
    "    max_mcts_queue=10240,\n",
    "    min_num_states=1024,\n",
    "    num_mcts_processes=48,\n",
    "                \n",
    "    eval_mcts_iterations=5000\n",
    ").save(force=True)"
   ]
  },
  {
   "cell_type": "code",
   "execution_count": 2,
   "metadata": {
    "ExecuteTime": {
     "end_time": "2019-05-16T05:59:52.209237Z",
     "start_time": "2019-05-16T05:59:52.157339Z"
    }
   },
   "outputs": [],
   "source": [
    "util.config = config = Config(Path('results_tic_tac_toe').mk(),\n",
    "    env='alphago',\n",
    "    board_dim=3,\n",
    "    n_win=3,\n",
    "                \n",
    "    res_basic_block=True,\n",
    "    res_inplanes=[16],\n",
    "    res_num_blocks=[3],\n",
    "                \n",
    "    c_puct=4,\n",
    "    mcts_iterations=100,\n",
    "    mcts_eps=0.1,\n",
    "    mcts_alpha=0.03, # 0.6 / board_dim\n",
    "    temp=1,\n",
    "    move_temp_decay=25,\n",
    "\n",
    "    lr=1e-2,\n",
    "    l2_reg=1e-4,\n",
    "\n",
    "    train_epochs=50000,\n",
    "    train_batch=1024,\n",
    "    pred_batch=48,\n",
    "    early_stop=False,\n",
    "    time_update_model=30.0,\n",
    "    epoch_update_model=10,\n",
    "    epoch_save_model=100,\n",
    "    epoch_save_games=200,\n",
    "    max_save=40,\n",
    "\n",
    "    max_mcts_queue=200000,\n",
    "    time_reset_eval=60 * 60,\n",
    "    min_num_states=20480,\n",
    "    num_mcts_processes=60,\n",
    "                \n",
    "    eval_mcts_iterations=5000\n",
    ").save(force=True)"
   ]
  },
  {
   "cell_type": "code",
   "execution_count": 5,
   "metadata": {
    "ExecuteTime": {
     "end_time": "2019-05-16T14:47:44.766767Z",
     "start_time": "2019-05-16T14:47:44.638839Z"
    }
   },
   "outputs": [],
   "source": [
    "config_8 = Config(Path('results_8x8')).load()\n",
    "config_12 = Config(Path('results_12x12')).load()\n",
    "config_20 = Config(Path('results_20x20')).load()"
   ]
  },
  {
   "cell_type": "code",
   "execution_count": 22,
   "metadata": {
    "ExecuteTime": {
     "end_time": "2019-05-16T15:08:21.236906Z",
     "start_time": "2019-05-16T15:08:20.325560Z"
    }
   },
   "outputs": [
    {
     "data": {
      "image/png": "[encoded data removed]",
      "text/plain": [
       "<Figure size 1080x720 with 2 Axes>"
      ]
     },
     "metadata": {
      "needs_background": "light"
     },
     "output_type": "display_data"
    }
   ],
   "source": [
    "fig, (ax_loss, ax_entropy) = plt.subplots(2, figsize=(15, 10))\n",
    "start = 0\n",
    "for config, num_epochs in (config_8, 60000), (config_12, 15000), (config_20, 7000):\n",
    "    train_results = config.load_train_results().iloc[:num_epochs]\n",
    "    x = start + np.arange(num_epochs)\n",
    "    label = config.name.split('_')[1]\n",
    "    ax_loss.plot(x, train_results['train_loss'], label=label)\n",
    "    ax_entropy.plot(x, train_results['train_entropy'], label=label)\n",
    "    \n",
    "    start += num_epochs\n",
    "ax_loss.set_title('Total Loss', fontsize=18)\n",
    "ax_entropy.set_title('Policy Entropy', fontsize=18)\n",
    "ax_loss.set_ylabel('Loss', fontsize=18)\n",
    "ax_entropy.set_ylabel('Entropy (log2)', fontsize=18)\n",
    "ax_entropy.set_xlabel('Epochs', fontsize=18)\n",
    "ax_loss.legend()\n",
    "ax_entropy.legend()\n",
    "plt.show()"
   ]
  }
 ],
 "metadata": {
  "kernelspec": {
   "display_name": "Python 3",
   "language": "python",
   "name": "python3"
  },
  "language_info": {
   "codemirror_mode": {
    "name": "ipython",
    "version": 3
   },
   "file_extension": ".py",
   "mimetype": "text/x-python",
   "name": "python",
   "nbconvert_exporter": "python",
   "pygments_lexer": "ipython3",
   "version": "3.5.2"
  }
 },
 "nbformat": 4,
 "nbformat_minor": 2
}
